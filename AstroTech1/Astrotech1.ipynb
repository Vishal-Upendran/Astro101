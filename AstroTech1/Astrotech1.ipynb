{
 "cells": [
  {
   "cell_type": "markdown",
   "metadata": {},
   "source": [
    "## Astronomical Techniques - 1\n",
    "\n",
    "This notebook is to ease working of some assignments and experiments of Astrotech-1 course by Prof. AN Ramaprakash."
   ]
  },
  {
   "cell_type": "code",
   "execution_count": 1,
   "metadata": {},
   "outputs": [
    {
     "name": "stderr",
     "output_type": "stream",
     "text": [
      "/usr/local/lib/python2.7/dist-packages/h5py/__init__.py:36: FutureWarning: Conversion of the second argument of issubdtype from `float` to `np.floating` is deprecated. In future, it will be treated as `np.float64 == np.dtype(float).type`.\n",
      "  from ._conv import register_converters as _register_converters\n"
     ]
    }
   ],
   "source": [
    "%matplotlib inline\n",
    "import matplotlib.pyplot as plt \n",
    "import numpy as np\n",
    "import tensorflow as tf"
   ]
  },
  {
   "cell_type": "markdown",
   "metadata": {},
   "source": [
    "#### Assignment 1\n",
    "##### Question 7\n",
    "Need to find the values and the errors of distance from redshift measures."
   ]
  },
  {
   "cell_type": "code",
   "execution_count": 2,
   "metadata": {},
   "outputs": [],
   "source": [
    "tf.reset_default_graph()\n",
    "tf.set_random_seed(0)\n",
    "H=tf.placeholder(tf.float32)\n",
    "z=tf.placeholder(tf.float32)\n",
    "sigma_H=tf.placeholder(tf.float32)\n",
    "sigma_z=tf.placeholder(tf.float32)\n",
    "c=3e5\n",
    "d=(c/H)*(1-2/(tf.square(z+1)+1)) #distance measure.\n",
    "err_H=tf.gradients(d,H)\n",
    "err_z=tf.gradients(d,z)\n",
    "err_d_2=tf.square(err_H)*tf.square(sigma_H) + tf.square(err_z)*tf.square(sigma_z)\n",
    "sigma_d = tf.sqrt(err_d_2)\n",
    "#Thus, we have sigma_d and d"
   ]
  },
  {
   "cell_type": "code",
   "execution_count": 3,
   "metadata": {},
   "outputs": [
    {
     "name": "stdout",
     "output_type": "stream",
     "text": [
      "WARNING:tensorflow:From /usr/local/lib/python2.7/dist-packages/tensorflow/python/util/tf_should_use.py:118: initialize_all_variables (from tensorflow.python.ops.variables) is deprecated and will be removed after 2017-03-02.\n",
      "Instructions for updating:\n",
      "Use `tf.global_variables_initializer` instead.\n"
     ]
    },
    {
     "data": {
      "text/plain": [
       "<tf.Operation 'init' type=NoOp>"
      ]
     },
     "execution_count": 3,
     "metadata": {},
     "output_type": "execute_result"
    }
   ],
   "source": [
    "sess = tf.Session()\n",
    "tf.initialize_all_variables()"
   ]
  },
  {
   "cell_type": "markdown",
   "metadata": {},
   "source": [
    "Since our graph is defined, we just need to feed in the value of z and error therein iteratively, and obtain distance measure for each bin."
   ]
  },
  {
   "cell_type": "code",
   "execution_count": 4,
   "metadata": {},
   "outputs": [
    {
     "name": "stdout",
     "output_type": "stream",
     "text": [
      "Distance  = : 3990.2625 Plus or minus [443.36978]\n"
     ]
    }
   ],
   "source": [
    "print \"Distance  = :\",\n",
    "print str(sess.run(d,feed_dict={z:5.8,H:72})),\n",
    "print \"Plus or minus \"+str(sess.run(sigma_d,feed_dict={z:5.8,H:72,sigma_H:8,sigma_z:0.05}))"
   ]
  },
  {
   "cell_type": "code",
   "execution_count": 5,
   "metadata": {},
   "outputs": [
    {
     "name": "stdout",
     "output_type": "stream",
     "text": [
      "[[5.7  5.8  5.95 6.1  6.25 6.4 ]\n",
      " [0.05 0.05 0.1  0.05 0.1  0.05]]\n",
      "[[72.]\n",
      " [ 8.]]\n"
     ]
    }
   ],
   "source": [
    "z_list=np.asarray([[5.7,5.8,5.95,6.1,6.25,6.4],[0.05,0.05,0.1,0.05,0.1,0.05]])\n",
    "print z_list\n",
    "H_constant=np.asarray([[72.0],[8.0]])\n",
    "print H_constant"
   ]
  },
  {
   "cell_type": "code",
   "execution_count": 6,
   "metadata": {},
   "outputs": [
    {
     "name": "stdout",
     "output_type": "stream",
     "text": [
      "(2, 6)\n"
     ]
    }
   ],
   "source": [
    "d_list=np.zeros(z_list.shape)\n",
    "for i in xrange(z_list.shape[1]):\n",
    "    d_list[0,i]=sess.run(d,feed_dict={z:z_list[0,i],H:H_constant[0]})\n",
    "    d_list[1,i]=sess.run(sigma_d,feed_dict={z:z_list[0,i],H:H_constant[0],sigma_z:z_list[1,i],sigma_H:H_constant[1]})\n",
    "print d_list.shape    \n",
    "    "
   ]
  },
  {
   "cell_type": "code",
   "execution_count": 8,
   "metadata": {},
   "outputs": [
    {
     "name": "stdout",
     "output_type": "stream",
     "text": [
      "(2, 6)\n",
      "Distances: [3985.07275391 3990.26245117 3997.6418457  4004.57104492 4011.08496094\n",
      " 4017.21655273]\n",
      "Errors: [442.79379272 443.36978149 444.20797729 444.95797729 445.6960144\n",
      " 446.36181641]\n"
     ]
    }
   ],
   "source": [
    "print d_list.shape\n",
    "print \"Distances: \" +str(d_list[0,:])\n",
    "print \"Errors: \" +str(d_list[1,:])"
   ]
  },
  {
   "cell_type": "code",
   "execution_count": 45,
   "metadata": {},
   "outputs": [
    {
     "data": {
      "text/plain": [
       "<ErrorbarContainer object of 3 artists>"
      ]
     },
     "execution_count": 45,
     "metadata": {},
     "output_type": "execute_result"
    },
    {
     "data": {
      "image/png": "[encoded data removed]",
      "text/plain": [
       "<Figure size 432x288 with 1 Axes>"
      ]
     },
     "metadata": {},
     "output_type": "display_data"
    }
   ],
   "source": [
    "#Plotting the distance and z plot:\n",
    "plt.errorbar(d_list[0,:],z_list[0,:],yerr=z_list[1,:],xerr=d_list[1,:],marker='s')"
   ]
  },
  {
   "cell_type": "markdown",
   "metadata": {},
   "source": [
    "### Assignment Question 10\n",
    "Spectral irradiance of moon \n"
   ]
  },
  {
   "cell_type": "code",
   "execution_count": 19,
   "metadata": {},
   "outputs": [
    {
     "name": "stdout",
     "output_type": "stream",
     "text": [
      "(9,)\n"
     ]
    },
    {
     "data": {
      "text/plain": [
       "Text(0.5,0,'Wavelength (nm)')"
      ]
     },
     "execution_count": 19,
     "metadata": {},
     "output_type": "execute_result"
    },
    {
     "data": {
      "image/png": "[encoded data removed]",
      "text/plain": [
       "<Figure size 432x288 with 1 Axes>"
      ]
     },
     "metadata": {},
     "output_type": "display_data"
    }
   ],
   "source": [
    "wavelength = np.asarray([449.7,499.9,550.0,600.2,650.1,702.8,750.0,850.2,1000.2]) #in nm\n",
    "irrad_moon = np.asarray([2.348,2.395,2.633,2.669,2.598,2.474,2.314,1.870,1.387]) # in microW m^2 nm^-1\n",
    "uncert_irrad_moon = np.asarray([0.85,0.56,0.45,0.44,0.40,0.38,0.37,0.36,0.54]) #% uncertainty.\n",
    "response_function = np.asarray([0.12,0.18,0.25,0.32,0.39,0.46,0.52,0.63,0.71]) #Approximate response values. A/W units.\n",
    "print response_function.shape\n",
    "Spectral_response = irrad_moon*response_function\n",
    "plt.plot(wavelength,irrad_moon,'ro',label='Moon irradiance')\n",
    "plt.plot(wavelength,response_function,'go',label='FDS1010')\n",
    "plt.legend(loc='best')\n",
    "plt.xlabel('Wavelength (nm)')\n"
   ]
  },
  {
   "cell_type": "code",
   "execution_count": 14,
   "metadata": {},
   "outputs": [
    {
     "name": "stdout",
     "output_type": "stream",
     "text": [
      "[0.28176 0.4311  0.65825 0.85408 1.01322 1.13804 1.20328 1.1781  0.98477]\n"
     ]
    },
    {
     "data": {
      "text/plain": [
       "Text(0,0.5,'Irradiance (x10e-6 A $m^{-2}$ $nm^{-2}$)')"
      ]
     },
     "execution_count": 14,
     "metadata": {},
     "output_type": "execute_result"
    },
    {
     "data": {
      "image/png": "[encoded data removed]",
      "text/plain": [
       "<Figure size 432x288 with 1 Axes>"
      ]
     },
     "metadata": {},
     "output_type": "display_data"
    }
   ],
   "source": [
    "#To find the responsivity, I approximate the response function \n",
    "print Spectral_response\n",
    "plt.plot(wavelength,Spectral_response,'ro')\n",
    "plt.title('Spectral response of FDS1010 to Moon\\'s brightness')\n",
    "plt.xlabel('Wavelength(nm)')\n",
    "plt.ylabel('Irradiance (x10e-6 A $m^{-2}$ $nm^{-2}$)')"
   ]
  },
  {
   "cell_type": "code",
   "execution_count": 15,
   "metadata": {},
   "outputs": [
    {
     "name": "stdout",
     "output_type": "stream",
     "text": [
      "Intensity in 10e-6 A m^-2:  523.1928625\n"
     ]
    }
   ],
   "source": [
    "#Area under curve:\n",
    "Intensity = np.trapz(Spectral_response,wavelength)\n",
    "print \"Intensity in 10e-6 A m^-2: \",\n",
    "print Intensity"
   ]
  },
  {
   "cell_type": "code",
   "execution_count": 18,
   "metadata": {},
   "outputs": [
    {
     "name": "stdout",
     "output_type": "stream",
     "text": [
      "Total intensity in 10e-6 C/s:  4.92E-02\n",
      "Total number of electrons per second for moon:  3.08E+11\n",
      "Total no of electrons per second for scintillation:  3.08E+07\n",
      "SNR for 2ms:  2.4804811580418398\n",
      "SNR for 1s:  55.46524486288953\n"
     ]
    }
   ],
   "source": [
    "detect_area = 9.7*9.7*1e-6\n",
    "Total_intensity = Intensity*detect_area #Value in Amps.\n",
    "print \"Total intensity in 10e-6 C/s: \",\n",
    "print \"%.2E\"%Total_intensity\n",
    "print \"Total number of electrons per second for moon: \",\n",
    "n = Total_intensity*1e-6/(1.6e-19)\n",
    "print \"%.2E\" %n\n",
    "print \"Total no of electrons per second for scintillation: \",\n",
    "n_scint = n*1e-4\n",
    "print \"%.2E\"%n_scint\n",
    "dark = 600e-9/1.6e-19\n",
    "snr = lambda sc,m,t: sc*np.sqrt(t)/np.sqrt(sc+m)\n",
    "print \"SNR for 2ms: \",\n",
    "print snr(n_scint,n,2e-3)\n",
    "print \"SNR for 1s: \",\n",
    "print snr(n_scint,n,1.0)\n"
   ]
  },
  {
   "cell_type": "code",
   "execution_count": null,
   "metadata": {},
   "outputs": [],
   "source": []
  }
 ],
 "metadata": {
  "kernelspec": {
   "display_name": "Python 2",
   "language": "python",
   "name": "python2"
  },
  "language_info": {
   "codemirror_mode": {
    "name": "ipython",
    "version": 2
   },
   "file_extension": ".py",
   "mimetype": "text/x-python",
   "name": "python",
   "nbconvert_exporter": "python",
   "pygments_lexer": "ipython2",
   "version": "2.7.12"
  }
 },
 "nbformat": 4,
 "nbformat_minor": 2
}
